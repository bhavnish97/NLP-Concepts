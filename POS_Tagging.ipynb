{
  "nbformat": 4,
  "nbformat_minor": 0,
  "metadata": {
    "colab": {
      "provenance": []
    },
    "kernelspec": {
      "name": "python3",
      "display_name": "Python 3"
    },
    "language_info": {
      "name": "python"
    }
  },
  "cells": [
    {
      "cell_type": "code",
      "execution_count": 1,
      "metadata": {
        "colab": {
          "base_uri": "https://localhost:8080/"
        },
        "id": "imJGA6v7iYNb",
        "outputId": "235897ff-0ee8-4f91-8c5f-98168a4f0bde"
      },
      "outputs": [
        {
          "output_type": "stream",
          "name": "stderr",
          "text": [
            "/usr/local/lib/python3.8/dist-packages/torch/cuda/__init__.py:497: UserWarning: Can't initialize NVML\n",
            "  warnings.warn(\"Can't initialize NVML\")\n"
          ]
        }
      ],
      "source": [
        "import spacy"
      ]
    },
    {
      "cell_type": "code",
      "source": [
        "#load english language\n",
        "nlp = spacy.load('en_core_web_sm')"
      ],
      "metadata": {
        "id": "ujyhA3aKictq"
      },
      "execution_count": 2,
      "outputs": []
    },
    {
      "cell_type": "code",
      "source": [
        "doc = nlp(\"I will go to Delhi on 5th Feb\")"
      ],
      "metadata": {
        "id": "ND0ZIxPcicvu"
      },
      "execution_count": 9,
      "outputs": []
    },
    {
      "cell_type": "code",
      "source": [
        "doc.text"
      ],
      "metadata": {
        "colab": {
          "base_uri": "https://localhost:8080/",
          "height": 36
        },
        "id": "B3QiSHh8icxr",
        "outputId": "41465182-04bc-43bb-931d-cf8812c16f88"
      },
      "execution_count": 10,
      "outputs": [
        {
          "output_type": "execute_result",
          "data": {
            "text/plain": [
              "'I will go to Delhi on 5th Feb'"
            ],
            "application/vnd.google.colaboratory.intrinsic+json": {
              "type": "string"
            }
          },
          "metadata": {},
          "execution_count": 10
        }
      ]
    },
    {
      "cell_type": "code",
      "source": [
        "doc[0]"
      ],
      "metadata": {
        "colab": {
          "base_uri": "https://localhost:8080/"
        },
        "id": "iB613KT8iczj",
        "outputId": "e9b82d55-e9b8-475d-c44a-0d135a3cfddd"
      },
      "execution_count": 11,
      "outputs": [
        {
          "output_type": "execute_result",
          "data": {
            "text/plain": [
              "I"
            ]
          },
          "metadata": {},
          "execution_count": 11
        }
      ]
    },
    {
      "cell_type": "code",
      "source": [
        "# Find the POS\n",
        "doc[0].pos_"
      ],
      "metadata": {
        "colab": {
          "base_uri": "https://localhost:8080/",
          "height": 36
        },
        "id": "izlSPwr9i3Nv",
        "outputId": "a1069bbe-c716-436e-fe33-d310d5d49fa7"
      },
      "execution_count": 12,
      "outputs": [
        {
          "output_type": "execute_result",
          "data": {
            "text/plain": [
              "'PRON'"
            ],
            "application/vnd.google.colaboratory.intrinsic+json": {
              "type": "string"
            }
          },
          "metadata": {},
          "execution_count": 12
        }
      ]
    },
    {
      "cell_type": "code",
      "source": [
        "len(doc)"
      ],
      "metadata": {
        "colab": {
          "base_uri": "https://localhost:8080/"
        },
        "id": "Qo1yvSBXi3Pw",
        "outputId": "58e1bfb4-faa7-4610-9e35-a1bb93771f29"
      },
      "execution_count": 13,
      "outputs": [
        {
          "output_type": "execute_result",
          "data": {
            "text/plain": [
              "8"
            ]
          },
          "metadata": {},
          "execution_count": 13
        }
      ]
    },
    {
      "cell_type": "code",
      "source": [
        "for word in doc:\n",
        "  print(word, word.pos_, spacy.explain(word.pos_))"
      ],
      "metadata": {
        "colab": {
          "base_uri": "https://localhost:8080/"
        },
        "id": "MTAmeHXJi3Rp",
        "outputId": "8d163c8d-8419-469c-b5a5-249446dc5098"
      },
      "execution_count": 16,
      "outputs": [
        {
          "output_type": "stream",
          "name": "stdout",
          "text": [
            "I PRON pronoun\n",
            "will AUX auxiliary\n",
            "go VERB verb\n",
            "to ADP adposition\n",
            "Delhi PROPN proper noun\n",
            "on ADP adposition\n",
            "5th ADJ adjective\n",
            "Feb PROPN proper noun\n"
          ]
        }
      ]
    },
    {
      "cell_type": "code",
      "source": [
        "doc = nlp('I will left you soon')\n",
        "for word in doc:\n",
        "  print(word, word.pos_, spacy.explain(word.pos_))"
      ],
      "metadata": {
        "colab": {
          "base_uri": "https://localhost:8080/"
        },
        "id": "zY-8_Yw9i3Th",
        "outputId": "7f1c75c0-a67c-47fb-d7b2-4f1591b513c9"
      },
      "execution_count": 17,
      "outputs": [
        {
          "output_type": "stream",
          "name": "stdout",
          "text": [
            "I PRON pronoun\n",
            "will AUX auxiliary\n",
            "left VERB verb\n",
            "you PRON pronoun\n",
            "soon ADV adverb\n"
          ]
        }
      ]
    },
    {
      "cell_type": "code",
      "source": [
        "doc = nlp('it will be on left of the road')\n",
        "for word in doc:\n",
        "  print(word, word.pos_, spacy.explain(word.pos_))"
      ],
      "metadata": {
        "colab": {
          "base_uri": "https://localhost:8080/"
        },
        "id": "ICwVRANvi3V7",
        "outputId": "8184878a-3431-423b-be3d-0e9f00aba70f"
      },
      "execution_count": 20,
      "outputs": [
        {
          "output_type": "stream",
          "name": "stdout",
          "text": [
            "it PRON pronoun\n",
            "will AUX auxiliary\n",
            "be AUX auxiliary\n",
            "on ADP adposition\n",
            "left NOUN noun\n",
            "of ADP adposition\n",
            "the DET determiner\n",
            "road NOUN noun\n"
          ]
        }
      ]
    },
    {
      "cell_type": "code",
      "source": [],
      "metadata": {
        "id": "40Tik0y_i3ZQ"
      },
      "execution_count": null,
      "outputs": []
    },
    {
      "cell_type": "code",
      "source": [],
      "metadata": {
        "id": "n6t2N2Unic28"
      },
      "execution_count": null,
      "outputs": []
    }
  ]
}