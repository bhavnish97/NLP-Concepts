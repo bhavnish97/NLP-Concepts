{
  "nbformat": 4,
  "nbformat_minor": 0,
  "metadata": {
    "colab": {
      "provenance": []
    },
    "kernelspec": {
      "name": "python3",
      "display_name": "Python 3"
    },
    "language_info": {
      "name": "python"
    }
  },
  "cells": [
    {
      "cell_type": "code",
      "execution_count": 1,
      "metadata": {
        "id": "CNfOXVLso-db"
      },
      "outputs": [],
      "source": [
        "import numpy as np\n",
        "import pandas as pd"
      ]
    },
    {
      "cell_type": "code",
      "source": [
        "# BAG of Words\n",
        "data = {\n",
        "    'text':['How are you', 'How did you come', 'Where did you live', 'How did you did'],\n",
        "    'output':[0,1,1,0]\n",
        "}\n",
        "my_df = pd.DataFrame(data)"
      ],
      "metadata": {
        "id": "bgQdyH1upF27"
      },
      "execution_count": 2,
      "outputs": []
    },
    {
      "cell_type": "code",
      "source": [
        "from sklearn.feature_extraction.text import CountVectorizer\n",
        "cv = CountVectorizer()\n",
        "bag_of_words = cv.fit_transform(my_df['text'])"
      ],
      "metadata": {
        "id": "kRTAT-PEpIyF"
      },
      "execution_count": 3,
      "outputs": []
    },
    {
      "cell_type": "code",
      "source": [
        "bag_of_words"
      ],
      "metadata": {
        "colab": {
          "base_uri": "https://localhost:8080/"
        },
        "id": "J7aAXcjcpI0L",
        "outputId": "abdd1e76-a9e5-4e29-aba2-f075b4f77764"
      },
      "execution_count": 4,
      "outputs": [
        {
          "output_type": "execute_result",
          "data": {
            "text/plain": [
              "<4x7 sparse matrix of type '<class 'numpy.int64'>'\n",
              "\twith 14 stored elements in Compressed Sparse Row format>"
            ]
          },
          "metadata": {},
          "execution_count": 4
        }
      ]
    },
    {
      "cell_type": "code",
      "source": [
        "print(cv.vocabulary_)"
      ],
      "metadata": {
        "colab": {
          "base_uri": "https://localhost:8080/"
        },
        "id": "l7gv1wZ9pI2M",
        "outputId": "f1599b46-6a6d-424f-b66d-ca80b3846cca"
      },
      "execution_count": 5,
      "outputs": [
        {
          "output_type": "stream",
          "name": "stdout",
          "text": [
            "{'how': 3, 'are': 0, 'you': 6, 'did': 2, 'come': 1, 'where': 5, 'live': 4}\n"
          ]
        }
      ]
    },
    {
      "cell_type": "code",
      "source": [
        "bag_of_words.toarray()"
      ],
      "metadata": {
        "colab": {
          "base_uri": "https://localhost:8080/"
        },
        "id": "r_PxJVZDpI3s",
        "outputId": "7a0ce4b3-4a48-4422-925a-2ec24e04b239"
      },
      "execution_count": 6,
      "outputs": [
        {
          "output_type": "execute_result",
          "data": {
            "text/plain": [
              "array([[1, 0, 0, 1, 0, 0, 1],\n",
              "       [0, 1, 1, 1, 0, 0, 1],\n",
              "       [0, 0, 1, 0, 1, 1, 1],\n",
              "       [0, 0, 2, 1, 0, 0, 1]])"
            ]
          },
          "metadata": {},
          "execution_count": 6
        }
      ]
    },
    {
      "cell_type": "code",
      "source": [
        "# for unknown word\n",
        "cv.transform(['How did you come and live']).toarray()"
      ],
      "metadata": {
        "colab": {
          "base_uri": "https://localhost:8080/"
        },
        "id": "71iocCu2pI5u",
        "outputId": "233516ab-6261-4cb8-93c3-0c3458618a7e"
      },
      "execution_count": 7,
      "outputs": [
        {
          "output_type": "execute_result",
          "data": {
            "text/plain": [
              "array([[0, 1, 1, 1, 1, 0, 1]])"
            ]
          },
          "metadata": {},
          "execution_count": 7
        }
      ]
    },
    {
      "cell_type": "code",
      "source": [
        "# Bi-gram\n",
        "cv = CountVectorizer(ngram_range=(2,2))\n",
        "bow_bigram = cv.fit_transform(my_df['text'])\n",
        "print(cv.vocabulary_)\n",
        "bag_of_words.toarray()"
      ],
      "metadata": {
        "colab": {
          "base_uri": "https://localhost:8080/"
        },
        "id": "mWXvJ5CwpI8T",
        "outputId": "d304a545-3b0f-4507-84ec-c29d63f5f14c"
      },
      "execution_count": 8,
      "outputs": [
        {
          "output_type": "stream",
          "name": "stdout",
          "text": [
            "{'how are': 2, 'are you': 0, 'how did': 3, 'did you': 1, 'you come': 5, 'where did': 4, 'you live': 7, 'you did': 6}\n"
          ]
        },
        {
          "output_type": "execute_result",
          "data": {
            "text/plain": [
              "array([[1, 0, 0, 1, 0, 0, 1],\n",
              "       [0, 1, 1, 1, 0, 0, 1],\n",
              "       [0, 0, 1, 0, 1, 1, 1],\n",
              "       [0, 0, 2, 1, 0, 0, 1]])"
            ]
          },
          "metadata": {},
          "execution_count": 8
        }
      ]
    },
    {
      "cell_type": "code",
      "source": [
        "# tri-gram\n",
        "cv = CountVectorizer(ngram_range=(3,3))\n",
        "bow_bigram = cv.fit_transform(my_df['text'])\n",
        "print(cv.vocabulary_)\n",
        "bag_of_words.toarray()"
      ],
      "metadata": {
        "colab": {
          "base_uri": "https://localhost:8080/"
        },
        "id": "c83ShHfGpI9v",
        "outputId": "a5434417-b48e-4c4a-da28-75b022dba690"
      },
      "execution_count": 9,
      "outputs": [
        {
          "output_type": "stream",
          "name": "stdout",
          "text": [
            "{'how are you': 3, 'how did you': 4, 'did you come': 0, 'where did you': 5, 'did you live': 2, 'did you did': 1}\n"
          ]
        },
        {
          "output_type": "execute_result",
          "data": {
            "text/plain": [
              "array([[1, 0, 0, 1, 0, 0, 1],\n",
              "       [0, 1, 1, 1, 0, 0, 1],\n",
              "       [0, 0, 1, 0, 1, 1, 1],\n",
              "       [0, 0, 2, 1, 0, 0, 1]])"
            ]
          },
          "metadata": {},
          "execution_count": 9
        }
      ]
    },
    {
      "cell_type": "code",
      "source": [
        "# uni, bi and tri-gram\n",
        "cv = CountVectorizer(ngram_range=(1,3))\n",
        "bow_bigram = cv.fit_transform(my_df['text'])\n",
        "print(cv.vocabulary_)\n",
        "bag_of_words.toarray()"
      ],
      "metadata": {
        "colab": {
          "base_uri": "https://localhost:8080/"
        },
        "id": "AGGv7EUZpI_W",
        "outputId": "6a1250cd-596e-4080-bcfb-1632191a2ba6"
      },
      "execution_count": 10,
      "outputs": [
        {
          "output_type": "stream",
          "name": "stdout",
          "text": [
            "{'how': 8, 'are': 0, 'you': 17, 'how are': 9, 'are you': 1, 'how are you': 10, 'did': 3, 'come': 2, 'how did': 11, 'did you': 4, 'you come': 18, 'how did you': 12, 'did you come': 5, 'where': 14, 'live': 13, 'where did': 15, 'you live': 20, 'where did you': 16, 'did you live': 7, 'you did': 19, 'did you did': 6}\n"
          ]
        },
        {
          "output_type": "execute_result",
          "data": {
            "text/plain": [
              "array([[1, 0, 0, 1, 0, 0, 1],\n",
              "       [0, 1, 1, 1, 0, 0, 1],\n",
              "       [0, 0, 1, 0, 1, 1, 1],\n",
              "       [0, 0, 2, 1, 0, 0, 1]])"
            ]
          },
          "metadata": {},
          "execution_count": 10
        }
      ]
    },
    {
      "cell_type": "code",
      "source": [
        "# Tf-Idf\n",
        "# data = {\n",
        "#     'text':['How are you', 'How did you come', 'Where did you live', 'How did you did'],\n",
        "#     'output':[0,1,1,0]\n",
        "# }\n",
        "from sklearn.feature_extraction.text import TfidfVectorizer\n",
        "tfidf = TfidfVectorizer()\n",
        "tfidf.fit_transform(my_df['text']).toarray()"
      ],
      "metadata": {
        "colab": {
          "base_uri": "https://localhost:8080/"
        },
        "id": "63LYCbITpZkI",
        "outputId": "824083bc-ba3f-49b0-abe1-d32fcd411443"
      },
      "execution_count": 14,
      "outputs": [
        {
          "output_type": "execute_result",
          "data": {
            "text/plain": [
              "array([[0.77157901, 0.        , 0.        , 0.49248889, 0.        ,\n",
              "        0.        , 0.40264194],\n",
              "       [0.        , 0.69218835, 0.44181486, 0.44181486, 0.        ,\n",
              "        0.        , 0.3612126 ],\n",
              "       [0.        , 0.        , 0.38991559, 0.        , 0.61087812,\n",
              "        0.61087812, 0.31878155],\n",
              "       [0.        , 0.        , 0.84003859, 0.4200193 , 0.        ,\n",
              "        0.        , 0.3433933 ]])"
            ]
          },
          "metadata": {},
          "execution_count": 14
        }
      ]
    },
    {
      "cell_type": "code",
      "source": [
        "tfidf.idf_"
      ],
      "metadata": {
        "colab": {
          "base_uri": "https://localhost:8080/"
        },
        "id": "7WC-cEvDpZmM",
        "outputId": "f9303eed-9a91-4694-c62a-a3d2ff4e31da"
      },
      "execution_count": 18,
      "outputs": [
        {
          "output_type": "execute_result",
          "data": {
            "text/plain": [
              "array([1.91629073, 1.91629073, 1.22314355, 1.22314355, 1.91629073,\n",
              "       1.91629073, 1.        ])"
            ]
          },
          "metadata": {},
          "execution_count": 18
        }
      ]
    },
    {
      "cell_type": "code",
      "source": [],
      "metadata": {
        "id": "QVthTEQBpZr7"
      },
      "execution_count": null,
      "outputs": []
    },
    {
      "cell_type": "code",
      "source": [],
      "metadata": {
        "id": "Rhmk4guHpJCz"
      },
      "execution_count": null,
      "outputs": []
    },
    {
      "cell_type": "code",
      "source": [],
      "metadata": {
        "id": "UnhWgrS5pF6N"
      },
      "execution_count": null,
      "outputs": []
    },
    {
      "cell_type": "code",
      "source": [],
      "metadata": {
        "id": "NEkO2wG3pF8e"
      },
      "execution_count": null,
      "outputs": []
    },
    {
      "cell_type": "code",
      "source": [],
      "metadata": {
        "id": "afX4RKRBpF_1"
      },
      "execution_count": null,
      "outputs": []
    }
  ]
}